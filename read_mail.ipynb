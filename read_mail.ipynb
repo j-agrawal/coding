{
  "nbformat": 4,
  "nbformat_minor": 0,
  "metadata": {
    "colab": {
      "name": "read_mail.ipynb",
      "version": "0.3.2",
      "provenance": [],
      "include_colab_link": true
    },
    "kernelspec": {
      "name": "python3",
      "display_name": "Python 3"
    }
  },
  "cells": [
    {
      "cell_type": "markdown",
      "metadata": {
        "id": "view-in-github",
        "colab_type": "text"
      },
      "source": [
        "<a href=\"https://colab.research.google.com/github/j-agrawal/coding/blob/master/read_mail.ipynb\" target=\"_parent\"><img src=\"https://colab.research.google.com/assets/colab-badge.svg\" alt=\"Open In Colab\"/></a>"
      ]
    },
    {
      "cell_type": "code",
      "metadata": {
        "id": "49sUmhTNg0Iz",
        "colab_type": "code",
        "colab": {}
      },
      "source": [
        "import poplib\n",
        "mailServer = 'pop.gmail.com'\n",
        "emailID = 'jagrawal292@gmail.com'\n",
        "emailPass = 'jayesh896'\n",
        "\n",
        "## open connection to mail server (Secured using SSL)\n",
        "myEmailConnection = poplib.POP3_SSL(mailServer)\n",
        "## print the response message from server\n",
        "print (myEmailConnection.getwelcome())\n",
        "## set email address\n",
        "myEmailConnection.user(emailID)\n",
        "## set password \n",
        "myEmailConnection.pass_(emailPass)\n",
        "## get information about the email address\n",
        "EmailInformation = myEmailConnection.stat()\n",
        "print(\"Number of new emails: %s (%s bytes)\" % EmailInformation)\n",
        "## Reading an email\n",
        "print(\"\\n\\n===\\nRead messages\\n===\\n\\n\")\n",
        " \n",
        "## Read all emails\n",
        "numberofmails = EmailInformation[0]\n",
        "for i in range(numberofmails):\n",
        "    for email in myEmailConnection.retr(i+1)[1]:\n",
        "        print (email)"
      ],
      "execution_count": 0,
      "outputs": []
    }
  ]
}